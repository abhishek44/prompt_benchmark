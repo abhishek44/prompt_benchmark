{
 "cells": [
  {
   "cell_type": "code",
   "execution_count": 1,
   "id": "56e47695",
   "metadata": {},
   "outputs": [
    {
     "name": "stderr",
     "output_type": "stream",
     "text": [
      "/home/Projects/prompt_test/.venv/lib/python3.12/site-packages/tqdm/auto.py:21: TqdmWarning: IProgress not found. Please update jupyter and ipywidgets. See https://ipywidgets.readthedocs.io/en/stable/user_install.html\n",
      "  from .autonotebook import tqdm as notebook_tqdm\n"
     ]
    }
   ],
   "source": [
    "import os\n",
    "import json\n",
    "import time\n",
    "import numpy as np\n",
    "import matplotlib.pyplot as plt\n",
    "from typing import List, Dict, Any\n",
    "\n",
    "# Azure OpenAI\n",
    "from openai import AzureOpenAI as AzureOpenAIService\n",
    "\n",
    "from bert_score import score"
   ]
  },
  {
   "cell_type": "code",
   "execution_count": null,
   "id": "cc369fd9",
   "metadata": {},
   "outputs": [],
   "source": [
    "# Hardcoded configuration\n",
    "application_settings = {\n",
    "    \"azure_openai_service\": {\n",
    "        \"service_access_key\": \"YOUR_AZURE_OPENAI_API_KEY\",  # Replace with your actual API key\n",
    "        \"service_api_version\": \"2024-03-01-preview\", # Adjusted to a common preview version\n",
    "        \"service_endpoint_url\": \"YOUR_AZURE_OPENAI_ENDPOINT\",  # Replace with your endpoint\n",
    "        \"service_deployment_id\": \"gpt-4o\",  # Replace with your deployment name\n",
    "        \"service_model_identifier\": \"gpt-4o\",\n",
    "    },\n",
    "    \"bert\": {\"model_name\": \"bert-base-uncased\", \"similarity_threshold\": 0.7},\n",
    "    \"benchmarking_parameters\": {\n",
    "        \"number_of_prompt_suggestions\": 3,\n",
    "        \"assessment_metrics_list\": [\n",
    "            \"semantic_similarity_score\",\n",
    "            \"generated_response_length\",\n",
    "            \"api_token_consumption\",\n",
    "        ],\n",
    "    },\n",
    "    \"data_output_folder\": \"benchmark_results\",\n",
    "}\n",
    "\n",
    "# Initialize containers for script data\n",
    "generated_prompt_alternatives = []\n",
    "benchmark_assessment_outcomes = {}"
   ]
  },
  {
   "cell_type": "code",
   "execution_count": 3,
   "id": "076e4605",
   "metadata": {},
   "outputs": [
    {
     "name": "stdout",
     "output_type": "stream",
     "text": [
      "Azure OpenAI client initialized successfully.\n"
     ]
    }
   ],
   "source": [
    "# Set up Azure OpenAI client\n",
    "try:\n",
    "    azure_ai_client_instance = AzureOpenAIService(\n",
    "        api_key=application_settings[\"azure_openai_service\"][\"service_access_key\"],\n",
    "        api_version=application_settings[\"azure_openai_service\"][\"service_api_version\"],\n",
    "        azure_endpoint=application_settings[\"azure_openai_service\"][\"service_endpoint_url\"],\n",
    "    )\n",
    "    print(\"Azure OpenAI client initialized successfully.\")\n",
    "except Exception as error_detail:\n",
    "    print(f\"Failed to initialize Azure OpenAI client: {error_detail}\")\n",
    "    raise"
   ]
  },
  {
   "cell_type": "code",
   "execution_count": 4,
   "id": "4a27b8aa",
   "metadata": {},
   "outputs": [
    {
     "name": "stdout",
     "output_type": "stream",
     "text": [
      "Task Description loaded: Describe the key benefits of using solar power for residential energy needs. Format as a bulleted li...\n",
      "Golden Answer set: Generative AI refers to a class of artificial intelligence models designed to create new content, su...\n"
     ]
    }
   ],
   "source": [
    "# Generate prompts for a specific task\n",
    "main_task_objective: str = \"Describe the key benefits of using solar power for residential energy needs. Format as a bulleted list.\"\n",
    "\n",
    "# Define the golden answer - this is what we want all responses to be similar to\n",
    "# This is an example. Replace with your actual golden answer relevant to your task_description.\n",
    "standard_reference_output: str = \"\"\"Generative AI refers to a class of artificial intelligence models designed to create new content, such as text, images, or music, by learning patterns from existing data.\"\"\"\n",
    "\n",
    "print(f\"Task Description loaded: {main_task_objective[:100]}...\")\n",
    "print(f\"Golden Answer set: {standard_reference_output[:100]}...\")"
   ]
  },
  {
   "cell_type": "code",
   "execution_count": 5,
   "id": "b547824e",
   "metadata": {},
   "outputs": [
    {
     "name": "stdout",
     "output_type": "stream",
     "text": [
      "Generating 3 prompt candidates for task: Describe t...\n",
      "Extracted 3 prompt candidates\n",
      "Prompt Candidate #1: `PROMPT #1`  \n",
      "Explain the key benefits of using solar power for reside...\n",
      "Prompt Candidate #2: `PROMPT #2`  \n",
      "Imagine you are an expert in sustainable energy solution...\n",
      "Prompt Candidate #3: `PROMPT #3`  \n",
      "What are the primary advantages of adopting solar power ...\n"
     ]
    }
   ],
   "source": [
    "# Generate prompt candidates using Azure OpenAI\n",
    "num_prompt_suggestions = application_settings[\"benchmarking_parameters\"][\"number_of_prompt_suggestions\"]\n",
    "print(f\"Generating {num_prompt_suggestions} prompt candidates for task: {main_task_objective[:10]}...\")\n",
    "\n",
    "prompt_generation_system_message = f\"\"\"\n",
    "Act as an expert prompt engineer tasked with generating {num_prompt_suggestions} diverse and effective prompt variations for achieving a goal.\n",
    "Follow these instructions strictly for each prompt generated:\n",
    "1.  Goal Clarity: Ensure the prompt's objective is unmistakable.\n",
    "2.  Format Specification: Embed clear instructions within the prompt about the desired output structure.\n",
    "3.  Methodological Diversity: Make each prompt unique in its approach (consider: direct instruction, role-play, question-based, constraint-driven, comparative).\n",
    "4.  Completeness: Provide necessary context within the prompt for task execution.\n",
    "\n",
    "Formatting Requirements for Your Response:\n",
    "1. Prefix each prompt with `PROMPT #` followed by its number (e.g., `PROMPT #1`).\n",
    "2. Deliver *only* the raw prompts, without any surrounding text or commentary.\n",
    "3. Strict Formatting: Present the output as follows:\n",
    "    `PROMPT #1`\n",
    "    [Prompt text]\n",
    "    `---`\n",
    "    `PROMPT #2`\n",
    "    [Prompt text]\n",
    "    `---`\n",
    "    ...and so on.\n",
    "4. Content Constraint: Your entire response should consist *solely* of the numbered prompts separated by '---'. No extra text.\n",
    "\"\"\"\n",
    "\n",
    "try:\n",
    "    prompt_generation_api_response = azure_ai_client_instance.chat.completions.create(\n",
    "        model=application_settings[\"azure_openai_service\"][\"service_deployment_id\"],\n",
    "        messages=[\n",
    "            {\"role\": \"system\", \"content\": prompt_generation_system_message},\n",
    "            {\n",
    "                \"role\": \"user\",\n",
    "                \"content\": f\"Your task is to generate strictly {num_prompt_suggestions} high-quality, distinct prompt candidates for the following objective: {main_task_objective}\",\n",
    "            },\n",
    "        ],\n",
    "        temperature=0.7,\n",
    "        max_tokens=2000,\n",
    "    )\n",
    "\n",
    "    response_content_text = prompt_generation_api_response.choices[0].message.content\n",
    "    \n",
    "    generated_prompt_alternatives = []\n",
    "    # Parse the response to extract individual prompts\n",
    "    # Assuming the model strictly follows the \"---\" separator instruction\n",
    "    raw_prompts = response_content_text.split(\"---\")\n",
    "    \n",
    "    for R_prompt_block in raw_prompts:\n",
    "        R_prompt_block_cleaned = R_prompt_block.strip()\n",
    "        if R_prompt_block_cleaned:\n",
    "            # Remove \"PROMPT #X\" prefix if present\n",
    "            if R_prompt_block_cleaned.startswith(\"PROMPT #\"):\n",
    "                actual_prompt_content = R_prompt_block_cleaned.split(\"\\n\", 1)[-1].strip()\n",
    "            else:\n",
    "                actual_prompt_content = R_prompt_block_cleaned\n",
    "            generated_prompt_alternatives.append(actual_prompt_content)\n",
    "\n",
    "    print(f\"Extracted {len(generated_prompt_alternatives)} prompt candidates\")\n",
    "    for idx, single_prompt_text in enumerate(generated_prompt_alternatives):\n",
    "        print(f\"Prompt Candidate #{idx+1}: {single_prompt_text[:70]}...\" if len(single_prompt_text) > 70 else single_prompt_text)\n",
    "\n",
    "except Exception as error_detail:\n",
    "    print(f\"Failed to generate prompt candidates: {error_detail}\")\n",
    "    generated_prompt_alternatives = [] # Ensure it's empty on failure\n",
    "    print(\"Failed to generate prompt candidates.\")"
   ]
  },
  {
   "cell_type": "code",
   "execution_count": 6,
   "id": "fbe305c5",
   "metadata": {},
   "outputs": [],
   "source": [
    "def get_bert_score(predictions, references):\n",
    "    P, R, F1 = score(predictions, references, lang=\"en\", verbose=True)\n",
    "    return P.mean().item(), R.mean().item(), F1.mean().item()"
   ]
  },
  {
   "cell_type": "code",
   "execution_count": 7,
   "id": "cc56d80a",
   "metadata": {},
   "outputs": [],
   "source": [
    "def evaluate_single_prompt(prompt_text_to_test: str, reference_output_text: str = None) -> Dict[str, Any]:\n",
    "    test_initiation_time = time.time()\n",
    "    actual_model_response_content = \"Error: Response not generated\" # Default in case of failure before API call\n",
    "    \n",
    "    messages_for_api = [{\"role\": \"user\", \"content\": []}]\n",
    "    messages_for_api[0][\"content\"].append({\"type\": \"text\", \"text\": prompt_text_to_test})\n",
    "\n",
    "    try:\n",
    "        api_response_object = azure_ai_client_instance.chat.completions.create(\n",
    "            model=application_settings[\"azure_openai_service\"][\"service_deployment_id\"],\n",
    "            messages=messages_for_api,\n",
    "            temperature=0.1,  # Low temperature for more deterministic results\n",
    "            max_tokens=1000,\n",
    "        )\n",
    "\n",
    "        actual_model_response_content = api_response_object.choices[0].message.content\n",
    "        time_to_get_response = time.time() - test_initiation_time\n",
    "        tokens_consumed_by_api = api_response_object.usage.total_tokens\n",
    "\n",
    "        evaluation_result_data = {\n",
    "            \"tested_prompt_text\": prompt_text_to_test,\n",
    "            \"llm_generated_output\": actual_model_response_content,\n",
    "            \"response_time_seconds\": time_to_get_response,\n",
    "            \"api_tokens_used\": tokens_consumed_by_api,\n",
    "            \"output_char_length\": len(actual_model_response_content),\n",
    "        }\n",
    "\n",
    "        if reference_output_text:\n",
    "            bert_p, bert_r, bert_f1 = get_bert_score([actual_model_response_content], [reference_output_text])\n",
    "            print(bert_p, bert_r, bert_f1)\n",
    "            evaluation_result_data[\"bert_precision\"] = bert_p\n",
    "            evaluation_result_data[\"bert_recall\"] = bert_r\n",
    "            evaluation_result_data[\"reference_text_provided\"] = reference_output_text\n",
    "            evaluation_result_data[\"semantic_similarity\"] = bert_f1\n",
    "            evaluation_result_data[\"success\"] = (\n",
    "                bert_f1 >= application_settings[\"bert\"][\"similarity_threshold\"]\n",
    "            )\n",
    "        return evaluation_result_data\n",
    "\n",
    "    except Exception as e:\n",
    "        print(f\"Error testing prompt '{prompt_text_to_test[:50]}...': {e}\")"
   ]
  },
  {
   "cell_type": "code",
   "execution_count": 8,
   "id": "e7a7fdc3",
   "metadata": {},
   "outputs": [
    {
     "name": "stdout",
     "output_type": "stream",
     "text": [
      "Benchmarking prompt_1...\n"
     ]
    },
    {
     "name": "stderr",
     "output_type": "stream",
     "text": [
      "Testing prompt_1:   0%|          | 0/3 [00:00<?, ?it/s]Some weights of RobertaModel were not initialized from the model checkpoint at roberta-large and are newly initialized: ['pooler.dense.bias', 'pooler.dense.weight']\n",
      "You should probably TRAIN this model on a down-stream task to be able to use it for predictions and inference.\n"
     ]
    },
    {
     "name": "stdout",
     "output_type": "stream",
     "text": [
      "calculating scores...\n",
      "computing bert embedding.\n"
     ]
    },
    {
     "name": "stderr",
     "output_type": "stream",
     "text": [
      "100%|██████████| 1/1 [00:02<00:00,  2.44s/it]\n"
     ]
    },
    {
     "name": "stdout",
     "output_type": "stream",
     "text": [
      "computing greedy matching.\n"
     ]
    },
    {
     "name": "stderr",
     "output_type": "stream",
     "text": [
      "100%|██████████| 1/1 [00:00<00:00, 229.31it/s]\n",
      "Testing prompt_1:  33%|███▎      | 1/3 [00:10<00:20, 10.25s/it]"
     ]
    },
    {
     "name": "stdout",
     "output_type": "stream",
     "text": [
      "done in 2.45 seconds, 0.41 sentences/sec\n",
      "0.7692768573760986 0.8225100040435791 0.795003354549408\n"
     ]
    },
    {
     "name": "stderr",
     "output_type": "stream",
     "text": [
      "Some weights of RobertaModel were not initialized from the model checkpoint at roberta-large and are newly initialized: ['pooler.dense.bias', 'pooler.dense.weight']\n",
      "You should probably TRAIN this model on a down-stream task to be able to use it for predictions and inference.\n"
     ]
    },
    {
     "name": "stdout",
     "output_type": "stream",
     "text": [
      "calculating scores...\n",
      "computing bert embedding.\n"
     ]
    },
    {
     "name": "stderr",
     "output_type": "stream",
     "text": [
      "100%|██████████| 1/1 [00:02<00:00,  2.33s/it]\n"
     ]
    },
    {
     "name": "stdout",
     "output_type": "stream",
     "text": [
      "computing greedy matching.\n"
     ]
    },
    {
     "name": "stderr",
     "output_type": "stream",
     "text": [
      "100%|██████████| 1/1 [00:00<00:00, 289.20it/s]\n",
      "Testing prompt_1:  67%|██████▋   | 2/3 [00:17<00:08,  8.38s/it]"
     ]
    },
    {
     "name": "stdout",
     "output_type": "stream",
     "text": [
      "done in 2.34 seconds, 0.43 sentences/sec\n",
      "0.7708181142807007 0.8200051784515381 0.794651210308075\n"
     ]
    },
    {
     "name": "stderr",
     "output_type": "stream",
     "text": [
      "Some weights of RobertaModel were not initialized from the model checkpoint at roberta-large and are newly initialized: ['pooler.dense.bias', 'pooler.dense.weight']\n",
      "You should probably TRAIN this model on a down-stream task to be able to use it for predictions and inference.\n"
     ]
    },
    {
     "name": "stdout",
     "output_type": "stream",
     "text": [
      "calculating scores...\n",
      "computing bert embedding.\n"
     ]
    },
    {
     "name": "stderr",
     "output_type": "stream",
     "text": [
      "100%|██████████| 1/1 [00:02<00:00,  2.12s/it]\n"
     ]
    },
    {
     "name": "stdout",
     "output_type": "stream",
     "text": [
      "computing greedy matching.\n"
     ]
    },
    {
     "name": "stderr",
     "output_type": "stream",
     "text": [
      "100%|██████████| 1/1 [00:00<00:00, 325.49it/s]\n",
      "Testing prompt_1: 100%|██████████| 3/3 [00:25<00:00,  8.45s/it]\n"
     ]
    },
    {
     "name": "stdout",
     "output_type": "stream",
     "text": [
      "done in 2.13 seconds, 0.47 sentences/sec\n",
      "0.7706917524337769 0.8209688663482666 0.7950361967086792\n",
      "Completed benchmarking prompt_1\n",
      "Benchmarking prompt_2...\n"
     ]
    },
    {
     "name": "stderr",
     "output_type": "stream",
     "text": [
      "Testing prompt_2:   0%|          | 0/3 [00:00<?, ?it/s]Some weights of RobertaModel were not initialized from the model checkpoint at roberta-large and are newly initialized: ['pooler.dense.bias', 'pooler.dense.weight']\n",
      "You should probably TRAIN this model on a down-stream task to be able to use it for predictions and inference.\n"
     ]
    },
    {
     "name": "stdout",
     "output_type": "stream",
     "text": [
      "calculating scores...\n",
      "computing bert embedding.\n"
     ]
    },
    {
     "name": "stderr",
     "output_type": "stream",
     "text": [
      "100%|██████████| 1/1 [00:02<00:00,  2.80s/it]\n"
     ]
    },
    {
     "name": "stdout",
     "output_type": "stream",
     "text": [
      "computing greedy matching.\n"
     ]
    },
    {
     "name": "stderr",
     "output_type": "stream",
     "text": [
      "100%|██████████| 1/1 [00:00<00:00, 76.89it/s]\n",
      "Testing prompt_2:  33%|███▎      | 1/3 [00:08<00:16,  8.12s/it]"
     ]
    },
    {
     "name": "stdout",
     "output_type": "stream",
     "text": [
      "done in 2.82 seconds, 0.35 sentences/sec\n",
      "0.7655795812606812 0.8171724677085876 0.7905351519584656\n"
     ]
    },
    {
     "name": "stderr",
     "output_type": "stream",
     "text": [
      "Some weights of RobertaModel were not initialized from the model checkpoint at roberta-large and are newly initialized: ['pooler.dense.bias', 'pooler.dense.weight']\n",
      "You should probably TRAIN this model on a down-stream task to be able to use it for predictions and inference.\n"
     ]
    },
    {
     "name": "stdout",
     "output_type": "stream",
     "text": [
      "calculating scores...\n",
      "computing bert embedding.\n"
     ]
    },
    {
     "name": "stderr",
     "output_type": "stream",
     "text": [
      "100%|██████████| 1/1 [00:02<00:00,  2.25s/it]\n"
     ]
    },
    {
     "name": "stdout",
     "output_type": "stream",
     "text": [
      "computing greedy matching.\n"
     ]
    },
    {
     "name": "stderr",
     "output_type": "stream",
     "text": [
      "100%|██████████| 1/1 [00:00<00:00, 331.15it/s]\n",
      "Testing prompt_2:  67%|██████▋   | 2/3 [00:15<00:07,  7.87s/it]"
     ]
    },
    {
     "name": "stdout",
     "output_type": "stream",
     "text": [
      "done in 2.26 seconds, 0.44 sentences/sec\n",
      "0.7674957513809204 0.8123618364334106 0.7892917394638062\n"
     ]
    },
    {
     "name": "stderr",
     "output_type": "stream",
     "text": [
      "Some weights of RobertaModel were not initialized from the model checkpoint at roberta-large and are newly initialized: ['pooler.dense.bias', 'pooler.dense.weight']\n",
      "You should probably TRAIN this model on a down-stream task to be able to use it for predictions and inference.\n"
     ]
    },
    {
     "name": "stdout",
     "output_type": "stream",
     "text": [
      "calculating scores...\n",
      "computing bert embedding.\n"
     ]
    },
    {
     "name": "stderr",
     "output_type": "stream",
     "text": [
      "100%|██████████| 1/1 [00:02<00:00,  2.46s/it]\n"
     ]
    },
    {
     "name": "stdout",
     "output_type": "stream",
     "text": [
      "computing greedy matching.\n"
     ]
    },
    {
     "name": "stderr",
     "output_type": "stream",
     "text": [
      "100%|██████████| 1/1 [00:00<00:00, 261.31it/s]\n",
      "Testing prompt_2: 100%|██████████| 3/3 [00:23<00:00,  7.70s/it]\n"
     ]
    },
    {
     "name": "stdout",
     "output_type": "stream",
     "text": [
      "done in 2.47 seconds, 0.40 sentences/sec\n",
      "0.7631464600563049 0.8098708987236023 0.7858147025108337\n",
      "Completed benchmarking prompt_2\n",
      "Benchmarking prompt_3...\n"
     ]
    },
    {
     "name": "stderr",
     "output_type": "stream",
     "text": [
      "Testing prompt_3:   0%|          | 0/3 [00:00<?, ?it/s]Some weights of RobertaModel were not initialized from the model checkpoint at roberta-large and are newly initialized: ['pooler.dense.bias', 'pooler.dense.weight']\n",
      "You should probably TRAIN this model on a down-stream task to be able to use it for predictions and inference.\n"
     ]
    },
    {
     "name": "stdout",
     "output_type": "stream",
     "text": [
      "calculating scores...\n",
      "computing bert embedding.\n"
     ]
    },
    {
     "name": "stderr",
     "output_type": "stream",
     "text": [
      "100%|██████████| 1/1 [00:01<00:00,  1.56s/it]\n"
     ]
    },
    {
     "name": "stdout",
     "output_type": "stream",
     "text": [
      "computing greedy matching.\n"
     ]
    },
    {
     "name": "stderr",
     "output_type": "stream",
     "text": [
      "100%|██████████| 1/1 [00:00<00:00, 341.56it/s]\n",
      "Testing prompt_3:  33%|███▎      | 1/3 [00:04<00:09,  4.92s/it]"
     ]
    },
    {
     "name": "stdout",
     "output_type": "stream",
     "text": [
      "done in 1.57 seconds, 0.64 sentences/sec\n",
      "0.7788435816764832 0.8168872594833374 0.7974119186401367\n"
     ]
    },
    {
     "name": "stderr",
     "output_type": "stream",
     "text": [
      "Some weights of RobertaModel were not initialized from the model checkpoint at roberta-large and are newly initialized: ['pooler.dense.bias', 'pooler.dense.weight']\n",
      "You should probably TRAIN this model on a down-stream task to be able to use it for predictions and inference.\n"
     ]
    },
    {
     "name": "stdout",
     "output_type": "stream",
     "text": [
      "calculating scores...\n",
      "computing bert embedding.\n"
     ]
    },
    {
     "name": "stderr",
     "output_type": "stream",
     "text": [
      "100%|██████████| 1/1 [00:01<00:00,  1.87s/it]\n"
     ]
    },
    {
     "name": "stdout",
     "output_type": "stream",
     "text": [
      "computing greedy matching.\n"
     ]
    },
    {
     "name": "stderr",
     "output_type": "stream",
     "text": [
      "100%|██████████| 1/1 [00:00<00:00, 167.56it/s]\n",
      "Testing prompt_3:  67%|██████▋   | 2/3 [00:11<00:05,  5.77s/it]"
     ]
    },
    {
     "name": "stdout",
     "output_type": "stream",
     "text": [
      "done in 1.89 seconds, 0.53 sentences/sec\n",
      "0.7755596041679382 0.8205028176307678 0.7973984479904175\n"
     ]
    },
    {
     "name": "stderr",
     "output_type": "stream",
     "text": [
      "Some weights of RobertaModel were not initialized from the model checkpoint at roberta-large and are newly initialized: ['pooler.dense.bias', 'pooler.dense.weight']\n",
      "You should probably TRAIN this model on a down-stream task to be able to use it for predictions and inference.\n"
     ]
    },
    {
     "name": "stdout",
     "output_type": "stream",
     "text": [
      "calculating scores...\n",
      "computing bert embedding.\n"
     ]
    },
    {
     "name": "stderr",
     "output_type": "stream",
     "text": [
      "100%|██████████| 1/1 [00:01<00:00,  1.98s/it]\n"
     ]
    },
    {
     "name": "stdout",
     "output_type": "stream",
     "text": [
      "computing greedy matching.\n"
     ]
    },
    {
     "name": "stderr",
     "output_type": "stream",
     "text": [
      "100%|██████████| 1/1 [00:00<00:00, 236.77it/s]\n",
      "Testing prompt_3: 100%|██████████| 3/3 [00:16<00:00,  5.60s/it]"
     ]
    },
    {
     "name": "stdout",
     "output_type": "stream",
     "text": [
      "done in 2.00 seconds, 0.50 sentences/sec\n",
      "0.7785924673080444 0.8132737278938293 0.7955552935600281\n",
      "Completed benchmarking prompt_3\n"
     ]
    },
    {
     "name": "stderr",
     "output_type": "stream",
     "text": [
      "\n"
     ]
    }
   ],
   "source": [
    "# Run benchmarks on all prompt candidates against the test inputs.\n",
    "from tqdm import tqdm\n",
    "\n",
    "if not generated_prompt_alternatives:\n",
    "    print(\"No prompt candidates available for benchmarking\")\n",
    "else:        \n",
    "    benchmark_results = {}\n",
    "\n",
    "    for i, prompt in enumerate(generated_prompt_alternatives):\n",
    "        prompt_id = f\"prompt_{i+1}\"\n",
    "        print(f\"Benchmarking {prompt_id}...\")\n",
    "\n",
    "        results = []\n",
    "        for test_case in tqdm(generated_prompt_alternatives, desc=f\"Testing {prompt_id}\"):\n",
    "            result = evaluate_single_prompt(prompt, standard_reference_output)\n",
    "            results.append(result)\n",
    "\n",
    "        # Calculate aggregate metrics\n",
    "        metrics = {\n",
    "            \"avg_latency\": float(np.mean([r[\"response_time_seconds\"] for r in results])),\n",
    "            \"avg_token_usage\": float(np.mean([r[\"api_tokens_used\"] for r in results])),\n",
    "            \"avg_response_length\": float(\n",
    "                np.mean([r[\"output_char_length\"] for r in results])\n",
    "            ),\n",
    "        }\n",
    "\n",
    "        # Add semantic similarity metrics if expected outputs were provided\n",
    "        if all(\"semantic_similarity\" in r for r in results):\n",
    "            metrics[\"avg_semantic_similarity\"] = float(\n",
    "                np.mean([r[\"semantic_similarity\"] for r in results])\n",
    "            )\n",
    "            metrics[\"avg_success_rate\"] = float(\n",
    "                np.mean([r[\"success\"] for r in results])\n",
    "            )\n",
    "\n",
    "        benchmark_results[prompt_id] = {\n",
    "            \"prompt_text\": prompt,\n",
    "            \"results\": results,\n",
    "            \"metrics\": metrics,\n",
    "        }\n",
    "\n",
    "        print(f\"Completed benchmarking {prompt_id}\")"
   ]
  },
  {
   "cell_type": "code",
   "execution_count": 9,
   "id": "a0521790",
   "metadata": {},
   "outputs": [
    {
     "name": "stdout",
     "output_type": "stream",
     "text": [
      "\n",
      "Benchmark Results Summary:\n",
      "\n",
      "prompt_1:\n",
      "  Avg Response Time: 5.09s\n",
      "  Avg Token Usuage: 444.00s\n",
      "  Avg Tokens Consumed: 2191.0\n",
      "  Avg Semantic Similarity: 0.7949\n",
      "  Success Percentage: 100.00%\n",
      "\n",
      "prompt_2:\n",
      "  Avg Response Time: 4.68s\n",
      "  Avg Token Usuage: 507.33s\n",
      "  Avg Tokens Consumed: 2296.7\n",
      "  Avg Semantic Similarity: 0.7885\n",
      "  Success Percentage: 100.00%\n",
      "\n",
      "prompt_3:\n",
      "  Avg Response Time: 3.30s\n",
      "  Avg Token Usuage: 371.00s\n",
      "  Avg Tokens Consumed: 1773.3\n",
      "  Avg Semantic Similarity: 0.7968\n",
      "  Success Percentage: 100.00%\n"
     ]
    }
   ],
   "source": [
    "# Print summary of benchmark results\n",
    "print(\"\\nBenchmark Results Summary:\")\n",
    "if not benchmark_results:\n",
    "    print(\"No benchmark data to display.\")\n",
    "for prompt_label, data_item in benchmark_results.items():\n",
    "    perf_metrics = data_item[\"metrics\"]\n",
    "    print(f\"\\n{prompt_label}:\")\n",
    "    print(f\"  Avg Response Time: {perf_metrics.get('avg_latency', 0):.2f}s\")\n",
    "    print(f\"  Avg Token Usuage: {perf_metrics.get('avg_token_usage', 0):.2f}s\")\n",
    "    print(f\"  Avg Tokens Consumed: {perf_metrics.get('avg_response_length', 0):.1f}\")\n",
    "    if \"avg_semantic_similarity\" in perf_metrics:\n",
    "        print(f\"  Avg Semantic Similarity: {perf_metrics['avg_semantic_similarity']:.4f}\")\n",
    "        print(f\"  Success Percentage: {perf_metrics['avg_success_rate']:.2%}\")"
   ]
  },
  {
   "cell_type": "code",
   "execution_count": 10,
   "id": "176567cc",
   "metadata": {},
   "outputs": [
    {
     "name": "stdout",
     "output_type": "stream",
     "text": [
      "{'avg_latency': 5.085126082102458, 'avg_token_usage': 444.0, 'avg_response_length': 2191.0, 'avg_semantic_similarity': 0.7948969205220541, 'avg_success_rate': 1.0}\n",
      "{'avg_latency': 4.682161966959636, 'avg_token_usage': 507.3333333333333, 'avg_response_length': 2296.6666666666665, 'avg_semantic_similarity': 0.7885471979777018, 'avg_success_rate': 1.0}\n",
      "{'avg_latency': 3.3038899103800454, 'avg_token_usage': 371.0, 'avg_response_length': 1773.3333333333333, 'avg_semantic_similarity': 0.7967885533968607, 'avg_success_rate': 1.0}\n",
      "Best prompt selected: prompt_3 with score 0.7090\n"
     ]
    }
   ],
   "source": [
    "scores = {}\n",
    "for prompt_id, data in benchmark_results.items():\n",
    "    metrics = data[\"metrics\"]\n",
    "    score = 0\n",
    "    print(metrics)\n",
    "\n",
    "    # If semantic similarity metrics are available\n",
    "    if \"avg_semantic_similarity\" in metrics:\n",
    "        score += 0.6 * metrics[\"avg_semantic_similarity\"]\n",
    "        score += 0.3 * metrics[\"avg_success_rate\"]\n",
    "\n",
    "    # Always consider efficiency metrics (lower is better)\n",
    "    max_latency = max(\n",
    "        [r[\"metrics\"][\"avg_latency\"] for r in benchmark_results.values()]\n",
    "    )\n",
    "    max_tokens = max(\n",
    "        [r[\"metrics\"][\"avg_token_usage\"] for r in benchmark_results.values()]\n",
    "    )\n",
    "\n",
    "    norm_latency = (\n",
    "        metrics[\"avg_latency\"] / max_latency if max_latency > 0 else 0\n",
    "    )\n",
    "    norm_tokens = (\n",
    "        metrics[\"avg_token_usage\"] / max_tokens if max_tokens > 0 else 0\n",
    "    )\n",
    "\n",
    "    # Lower values are better for these metrics, so we subtract\n",
    "    score -= 0.05 * norm_latency\n",
    "    score -= 0.05 * norm_tokens\n",
    "\n",
    "    scores[prompt_id] = score\n",
    "\n",
    "# Find the prompt with the highest score\n",
    "best_prompt_id = max(scores, key=scores.get)\n",
    "best_prompt_data = benchmark_results[best_prompt_id]\n",
    "\n",
    "print(\n",
    "    f\"Best prompt selected: {best_prompt_id} with score {scores[best_prompt_id]:.4f}\"\n",
    ")\n",
    "# print(best_prompt_data['model_output'])\n",
    "best_performing_prompt_data  = {\n",
    "    \"prompt_id\": best_prompt_id,\n",
    "    \"prompt_text\": best_prompt_data[\"prompt_text\"],\n",
    "    \"score\": scores[best_prompt_id],\n",
    "    \"metrics\": best_prompt_data[\"metrics\"],\n",
    "}"
   ]
  },
  {
   "cell_type": "code",
   "execution_count": 11,
   "id": "8ae1a60c",
   "metadata": {},
   "outputs": [
    {
     "data": {
      "image/png": "[encoded data removed]",
      "text/plain": [
       "<Figure size 1500x1000 with 3 Axes>"
      ]
     },
     "metadata": {},
     "output_type": "display_data"
    }
   ],
   "source": [
    "# Extract metrics for visualization\n",
    "prompt_ids = list(benchmark_results.keys())\n",
    "latencies = [r[\"metrics\"][\"avg_latency\"] for r in benchmark_results.values()]\n",
    "token_usages = [r[\"metrics\"][\"avg_token_usage\"] for r in benchmark_results.values()]\n",
    "response_lengths = [\n",
    "    r[\"metrics\"][\"avg_response_length\"] for r in benchmark_results.values()\n",
    "]\n",
    "# Create bar charts\n",
    "plt.figure(figsize=(15, 10))\n",
    "\n",
    "# Latency chart\n",
    "plt.subplot(2, 2, 1)\n",
    "plt.bar(prompt_ids, latencies, color=\"orange\")\n",
    "plt.title(\"Average Latency (seconds)\")\n",
    "plt.xticks(rotation=45)\n",
    "\n",
    "# Token usage chart\n",
    "plt.subplot(2, 2, 2)\n",
    "plt.bar(prompt_ids, token_usages, color=\"red\")\n",
    "plt.title(\"Average Token Usage\")\n",
    "plt.xticks(rotation=45)\n",
    "\n",
    "# Response length chart\n",
    "plt.subplot(2, 2, 3)\n",
    "plt.bar(prompt_ids, response_lengths, color=\"blue\")\n",
    "plt.title(\"Average Response Length (chars)\")\n",
    "plt.xticks(rotation=45)\n",
    "\n",
    "plt.tight_layout()\n",
    "plt.show()\n",
    "\n",
    "        "
   ]
  },
  {
   "cell_type": "code",
   "execution_count": 20,
   "id": "d638d7a6",
   "metadata": {},
   "outputs": [
    {
     "data": {
      "image/png": "[encoded data removed]",
      "text/plain": [
       "<Figure size 640x480 with 1 Axes>"
      ]
     },
     "metadata": {},
     "output_type": "display_data"
    }
   ],
   "source": [
    "# Add semantic similarity chart if available\n",
    "if all(\n",
    "    \"avg_semantic_similarity\" in benchmark_results[pid][\"metrics\"]\n",
    "    for pid in prompt_ids\n",
    "):\n",
    "    similarities = [\n",
    "        r[\"metrics\"][\"avg_semantic_similarity\"] for r in benchmark_results.values()\n",
    "    ]\n",
    "    success_rates = [\n",
    "        r[\"metrics\"][\"avg_success_rate\"] for r in benchmark_results.values()\n",
    "    ]\n",
    "plt.subplot(2, 2, 4)\n",
    "plt.bar(prompt_ids, similarities, color=\"green\")\n",
    "plt.title(\"Average Semantic Similarity\")\n",
    "plt.ylim(0.7, 0.9)\n",
    "plt.xticks(rotation=45)\n",
    "\n",
    "# Add a second subplot for success rates\n",
    "# plt.figure(figsize=(8, 6))\n",
    "# plt.bar(prompt_ids, success_rates, color=\"purple\")\n",
    "# plt.title(\"Success Rate\")\n",
    "# plt.ylim(0, 1)\n",
    "# plt.xticks(rotation=45)\n",
    "plt.tight_layout()\n",
    "plt.show()"
   ]
  },
  {
   "cell_type": "code",
   "execution_count": null,
   "id": "234ec0b4",
   "metadata": {},
   "outputs": [],
   "source": []
  }
 ],
 "metadata": {
  "kernelspec": {
   "display_name": ".venv",
   "language": "python",
   "name": "python3"
  },
  "language_info": {
   "codemirror_mode": {
    "name": "ipython",
    "version": 3
   },
   "file_extension": ".py",
   "mimetype": "text/x-python",
   "name": "python",
   "nbconvert_exporter": "python",
   "pygments_lexer": "ipython3",
   "version": "3.12.3"
  }
 },
 "nbformat": 4,
 "nbformat_minor": 5
}
